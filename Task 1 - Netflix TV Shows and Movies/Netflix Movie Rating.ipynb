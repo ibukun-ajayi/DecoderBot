{
 "cells": [
  {
   "cell_type": "markdown",
   "id": "60ae8435",
   "metadata": {},
   "source": [
    "## Introduction\n",
    "\n",
    "This dataset was provided by DecoderBot, a versatile platform involved in various services, including IT solutions, design and development, and internship programs for  IT enthusiasts.\n",
    "\n",
    "The dataset consists of 11 columns with 5283 data entries of Netflix movies and TV show which has been rated by IMDb from 1953 to 2022. The data attributes includes:\n",
    "\n",
    "- **Title**: Name of the TV show or movie.\n",
    "- **Type**: category of each entry as a TV show or movie.\n",
    "- **Description**:Summary of the plot or storyline of each TV show or movie.\n",
    "- **Release_year**: indicates the year each movie of TV show was released.\n",
    "- **Age_certification**: Age ratings assigned to each title, indicating whether they are suitable for the general audience  or restricted due to adult content.\n",
    "- **Runtime**: Duration of TV show episodes or movies.\n",
    "- **Imdb_score**: Score assigned to each movie or TV show representing its overall quality and popularity on IMDb.\n",
    "- **Imdb_votes**: Number of votes received by each movie or TV show  on IMDb."
   ]
  },
  {
   "cell_type": "code",
   "execution_count": 1,
   "id": "ab8352bc",
   "metadata": {},
   "outputs": [
    {
     "data": {
      "text/html": [
       "<div>\n",
       "<style scoped>\n",
       "    .dataframe tbody tr th:only-of-type {\n",
       "        vertical-align: middle;\n",
       "    }\n",
       "\n",
       "    .dataframe tbody tr th {\n",
       "        vertical-align: top;\n",
       "    }\n",
       "\n",
       "    .dataframe thead th {\n",
       "        text-align: right;\n",
       "    }\n",
       "</style>\n",
       "<table border=\"1\" class=\"dataframe\">\n",
       "  <thead>\n",
       "    <tr style=\"text-align: right;\">\n",
       "      <th></th>\n",
       "      <th>index</th>\n",
       "      <th>id</th>\n",
       "      <th>title</th>\n",
       "      <th>type</th>\n",
       "      <th>description</th>\n",
       "      <th>release_year</th>\n",
       "      <th>age_certification</th>\n",
       "      <th>runtime</th>\n",
       "      <th>imdb_id</th>\n",
       "      <th>imdb_score</th>\n",
       "      <th>imdb_votes</th>\n",
       "    </tr>\n",
       "  </thead>\n",
       "  <tbody>\n",
       "    <tr>\n",
       "      <th>0</th>\n",
       "      <td>0</td>\n",
       "      <td>tm84618</td>\n",
       "      <td>Taxi Driver</td>\n",
       "      <td>MOVIE</td>\n",
       "      <td>A mentally unstable Vietnam War veteran works ...</td>\n",
       "      <td>1976</td>\n",
       "      <td>R</td>\n",
       "      <td>113</td>\n",
       "      <td>tt0075314</td>\n",
       "      <td>8.3</td>\n",
       "      <td>795222.0</td>\n",
       "    </tr>\n",
       "    <tr>\n",
       "      <th>1</th>\n",
       "      <td>1</td>\n",
       "      <td>tm127384</td>\n",
       "      <td>Monty Python and the Holy Grail</td>\n",
       "      <td>MOVIE</td>\n",
       "      <td>King Arthur, accompanied by his squire, recrui...</td>\n",
       "      <td>1975</td>\n",
       "      <td>PG</td>\n",
       "      <td>91</td>\n",
       "      <td>tt0071853</td>\n",
       "      <td>8.2</td>\n",
       "      <td>530877.0</td>\n",
       "    </tr>\n",
       "    <tr>\n",
       "      <th>2</th>\n",
       "      <td>2</td>\n",
       "      <td>tm70993</td>\n",
       "      <td>Life of Brian</td>\n",
       "      <td>MOVIE</td>\n",
       "      <td>Brian Cohen is an average young Jewish man, bu...</td>\n",
       "      <td>1979</td>\n",
       "      <td>R</td>\n",
       "      <td>94</td>\n",
       "      <td>tt0079470</td>\n",
       "      <td>8.0</td>\n",
       "      <td>392419.0</td>\n",
       "    </tr>\n",
       "    <tr>\n",
       "      <th>3</th>\n",
       "      <td>3</td>\n",
       "      <td>tm190788</td>\n",
       "      <td>The Exorcist</td>\n",
       "      <td>MOVIE</td>\n",
       "      <td>12-year-old Regan MacNeil begins to adapt an e...</td>\n",
       "      <td>1973</td>\n",
       "      <td>R</td>\n",
       "      <td>133</td>\n",
       "      <td>tt0070047</td>\n",
       "      <td>8.1</td>\n",
       "      <td>391942.0</td>\n",
       "    </tr>\n",
       "    <tr>\n",
       "      <th>4</th>\n",
       "      <td>4</td>\n",
       "      <td>ts22164</td>\n",
       "      <td>Monty Python's Flying Circus</td>\n",
       "      <td>SHOW</td>\n",
       "      <td>A British sketch comedy series with the shows ...</td>\n",
       "      <td>1969</td>\n",
       "      <td>TV-14</td>\n",
       "      <td>30</td>\n",
       "      <td>tt0063929</td>\n",
       "      <td>8.8</td>\n",
       "      <td>72895.0</td>\n",
       "    </tr>\n",
       "  </tbody>\n",
       "</table>\n",
       "</div>"
      ],
      "text/plain": [
       "   index        id                            title   type  \\\n",
       "0      0   tm84618                      Taxi Driver  MOVIE   \n",
       "1      1  tm127384  Monty Python and the Holy Grail  MOVIE   \n",
       "2      2   tm70993                    Life of Brian  MOVIE   \n",
       "3      3  tm190788                     The Exorcist  MOVIE   \n",
       "4      4   ts22164     Monty Python's Flying Circus   SHOW   \n",
       "\n",
       "                                         description  release_year  \\\n",
       "0  A mentally unstable Vietnam War veteran works ...          1976   \n",
       "1  King Arthur, accompanied by his squire, recrui...          1975   \n",
       "2  Brian Cohen is an average young Jewish man, bu...          1979   \n",
       "3  12-year-old Regan MacNeil begins to adapt an e...          1973   \n",
       "4  A British sketch comedy series with the shows ...          1969   \n",
       "\n",
       "  age_certification  runtime    imdb_id  imdb_score  imdb_votes  \n",
       "0                 R      113  tt0075314         8.3    795222.0  \n",
       "1                PG       91  tt0071853         8.2    530877.0  \n",
       "2                 R       94  tt0079470         8.0    392419.0  \n",
       "3                 R      133  tt0070047         8.1    391942.0  \n",
       "4             TV-14       30  tt0063929         8.8     72895.0  "
      ]
     },
     "execution_count": 1,
     "metadata": {},
     "output_type": "execute_result"
    }
   ],
   "source": [
    "# Import all necessary libraries\n",
    "import pandas as pd\n",
    "import numpy as np\n",
    "import seaborn as sns\n",
    "import matplotlib\n",
    "import matplotlib.pyplot as plt\n",
    "from wordcloud import WordCloud\n",
    "\n",
    "\n",
    "# load the Netflix TV shows and movies dataset into the pandas dataframe\n",
    "\n",
    "# Define the file path\n",
    "file_path = r\"C:\\Users\\ianiy\\OneDrive\\Desktop\\Data Analyst GIGs\\DecoderBot\\Task 1- Netflix TV Shows and Movies.csv\"\n",
    "\n",
    "# Load the CSV file into a DataFrame\n",
    "Movies_rating = pd.read_csv(file_path)\n",
    "\n",
    "# Display the first few rows of the DataFrame\n",
    "Movies_rating.head()"
   ]
  },
  {
   "cell_type": "code",
   "execution_count": 2,
   "id": "9cc98cd7",
   "metadata": {},
   "outputs": [
    {
     "name": "stdout",
     "output_type": "stream",
     "text": [
      "<class 'pandas.core.frame.DataFrame'>\n",
      "RangeIndex: 5283 entries, 0 to 5282\n",
      "Data columns (total 11 columns):\n",
      " #   Column             Non-Null Count  Dtype  \n",
      "---  ------             --------------  -----  \n",
      " 0   index              5283 non-null   int64  \n",
      " 1   id                 5283 non-null   object \n",
      " 2   title              5283 non-null   object \n",
      " 3   type               5283 non-null   object \n",
      " 4   description        5278 non-null   object \n",
      " 5   release_year       5283 non-null   int64  \n",
      " 6   age_certification  2998 non-null   object \n",
      " 7   runtime            5283 non-null   int64  \n",
      " 8   imdb_id            5283 non-null   object \n",
      " 9   imdb_score         5283 non-null   float64\n",
      " 10  imdb_votes         5267 non-null   float64\n",
      "dtypes: float64(2), int64(3), object(6)\n",
      "memory usage: 454.1+ KB\n"
     ]
    }
   ],
   "source": [
    "# Display basic information about dataset\n",
    "Movies_rating.info()"
   ]
  },
  {
   "cell_type": "markdown",
   "id": "27d7dd00",
   "metadata": {},
   "source": [
    "## Data Cleaning"
   ]
  },
  {
   "cell_type": "code",
   "execution_count": 3,
   "id": "6730e3a0",
   "metadata": {},
   "outputs": [
    {
     "data": {
      "text/plain": [
       "index                   0\n",
       "id                      0\n",
       "title                   0\n",
       "type                    0\n",
       "description             5\n",
       "release_year            0\n",
       "age_certification    2285\n",
       "runtime                 0\n",
       "imdb_id                 0\n",
       "imdb_score              0\n",
       "imdb_votes             16\n",
       "dtype: int64"
      ]
     },
     "execution_count": 3,
     "metadata": {},
     "output_type": "execute_result"
    }
   ],
   "source": [
    "# Check the columns with the null values \n",
    "Movies_rating.isna().sum()"
   ]
  },
  {
   "cell_type": "markdown",
   "id": "6fd8b282",
   "metadata": {},
   "source": [
    "This dataframe shows that there are missing values in some columns such as **'description', 'age_certification', and 'imdb_votes'**. Also some of the columns are not useful to our analysis, thus such columns will be dropped."
   ]
  },
  {
   "cell_type": "code",
   "execution_count": 4,
   "id": "49ae4e05",
   "metadata": {},
   "outputs": [
    {
     "data": {
      "text/plain": [
       "0"
      ]
     },
     "execution_count": 4,
     "metadata": {},
     "output_type": "execute_result"
    }
   ],
   "source": [
    "# Check for duplicates\n",
    "\n",
    "Movies_rating.duplicated().sum()"
   ]
  },
  {
   "cell_type": "code",
   "execution_count": 5,
   "id": "cd9f1c66",
   "metadata": {},
   "outputs": [
    {
     "data": {
      "text/plain": [
       "index  id        title                   type   description                                                                                                                                                                                                                                                                                                                                                                               release_year  age_certification  runtime  imdb_id     imdb_score  imdb_votes\n",
       "0      tm84618   Taxi Driver             MOVIE  A mentally unstable Vietnam War veteran works as a night-time taxi driver in New York City where the perceived decadence and sleaze feed his urge for violent action, attempting to save a preadolescent prostitute in the process.                                                                                                                                                       1976          R                  113      tt0075314   8.3         795222.0      1\n",
       "3244   ts236747  Middleditch & Schwartz  SHOW   Comedy duo Thomas Middleditch and Ben Schwartz turn small ideas into epically funny stories in this series of completely improvised comedy specials.                                                                                                                                                                                                                                      2020          TV-MA              51       tt12027034  8.6         5147.0        1\n",
       "3232   tm315255  Ip Man 4: The Finale    MOVIE  Following the death of his wife, Ip Man travels to San Francisco to ease tensions between the local kung fu masters and his star student, Bruce Lee, while searching for a better future for his son.                                                                                                                                                                                     2019          PG                 107      tt2076298   7.0         30694.0       1\n",
       "3233   tm361746  Ophelia                 MOVIE  Ophelia comes of age as lady-in-waiting for Queen Gertrude, and her singular spirit captures Hamlet's affections. As lust and betrayal threaten the kingdom, Ophelia finds herself trapped between true love and controlling her own destiny.                                                                                                                                             2019          PG-13              106      tt5690870   6.6         10357.0       1\n",
       "3234   tm813695  After We Collided       MOVIE  Based on the 2014 romance novel of the same name, this follows the love life of two young adults.                                                                                                                                                                                                                                                                                         2020          R                  105      tt10362466  5.0         29571.0       1\n",
       "                                                                                                                                                                                                                                                                                                                                                                                                                                                                                                                         ..\n",
       "1430   tm218186  Septembers of Shiraz    MOVIE  In this adaptation of the critically acclaimed debut novel by Iranian American author Dalia Sofer, a secular Jewish family is caught up in the maelstrom of the 1979 Iranian Revolution.                                                                                                                                                                                                  2015          PG-13              110      tt3661298   7.9         38.0          1\n",
       "1432   ts38805   Beat Bugs               SHOW   Jay, Kumi, Crick, Buzz, and Walter are best friends who band together to explore and learn in an overgrown suburban backyard, which to them is their entire universe. Each episode of this animated series features songs by The Beatles performed by artists including Daniel Johns, Robbie Williams and Pink to tell uplifting and life-affirming stories filled with hope and melody.  2016          TV-Y               15       tt4716268   7.6         522.0         1\n",
       "1437   tm201365  Brothers                MOVIE  David and Monty, estranged half-brothers, train in mixed martial arts to earn a livelihood. However, things change when the two are forced to compete against each other in the final tournament.                                                                                                                                                                                         2015          PG-13              156      tt3802576   6.4         12886.0       1\n",
       "1438   ts38761   Another Miss Oh         SHOW   Two women working in the same industry with the exact same name keep getting their lives entangled both professionally and personally.                                                                                                                                                                                                                                                    2016          TV-MA              69       tt5679572   7.9         1769.0        1\n",
       "5275   ts286386  The Big Day             SHOW   For six engaged couples, happily ever after begins on a spectacular note in this eye-popping look at Indiaâ€™s multibillion-dollar wedding industry.                                                                                                                                                                                                                                      2021          TV-MA              45       tt13887518  4.6         327.0         1\n",
       "Length: 2987, dtype: int64"
      ]
     },
     "execution_count": 5,
     "metadata": {},
     "output_type": "execute_result"
    }
   ],
   "source": [
    "# Check for data consistency\n",
    "\n",
    "Movies_rating.value_counts()"
   ]
  },
  {
   "cell_type": "code",
   "execution_count": 6,
   "id": "9fcaa654",
   "metadata": {},
   "outputs": [
    {
     "name": "stdout",
     "output_type": "stream",
     "text": [
      "Unique values in index: [   0    1    2 ... 5280 5281 5282]\n",
      "Unique values in id: ['tm84618' 'tm127384' 'tm70993' ... 'tm1045018' 'tm1098060' 'ts271048']\n",
      "Unique values in title: ['Taxi Driver' 'Monty Python and the Holy Grail' 'Life of Brian' ...\n",
      " 'Clash' 'Shadow Parties' 'Mighty Little Bheem: Kite Festival']\n",
      "Unique values in type: ['MOVIE' 'SHOW']\n",
      "Unique values in description: ['A mentally unstable Vietnam War veteran works as a night-time taxi driver in New York City where the perceived decadence and sleaze feed his urge for violent action, attempting to save a preadolescent prostitute in the process.'\n",
      " 'King Arthur, accompanied by his squire, recruits his Knights of the Round Table, including Sir Bedevere the Wise, Sir Lancelot the Brave, Sir Robin the Not-Quite-So-Brave-As-Sir-Lancelot and Sir Galahad the Pure. On the way, Arthur battles the Black Knight who, despite having had all his limbs chopped off, insists he can still fight. They reach Camelot, but Arthur decides not  to enter, as \"it is a silly place\".'\n",
      " \"Brian Cohen is an average young Jewish man, but through a series of ridiculous events, he gains a reputation as the Messiah. When he's not dodging his followers or being scolded by his shrill mother, the hapless Brian has to contend with the pompous Pontius Pilate and acronym-obsessed members of a separatist movement. Rife with Monty Python's signature absurdity, the tale finds Brian's life paralleling Biblical lore, albeit with many more laughs.\"\n",
      " ...\n",
      " 'A man from Nigeria returns to his family in Canada and discovers that Western culture has changed his children in ways that he does not approve.'\n",
      " 'A family faces destruction in a long-running conflict between communities that pits relatives against each other amid attacks and reprisals.'\n",
      " 'With winter behind them, Bheem and his townspeople usher in a sunny new season in all their favorite ways during the Makar Sankranti festival.']\n",
      "Unique values in release_year: [1976 1975 1979 1973 1969 1971 1964 1980 1967 1966 1961 1954 1958 1968\n",
      " 1977 1972 1963 1960 1956 1953 1974 1959 1962 1978 1986 1989 1984 1990\n",
      " 1987 1983 1982 1981 1988 1985 1995 2000 1997 1994 1996 1999 1998 1993\n",
      " 1992 1991 2008 2010 2004 2005 2003 2009 2007 2006 2001 2002 2012 2011\n",
      " 2014 2013 2015 2016 2017 2018 2019 2020 2022 2021]\n",
      "Unique values in age_certification: ['R' 'PG' 'TV-14' 'G' 'PG-13' nan 'TV-MA' 'TV-PG' 'TV-Y' 'TV-G' 'TV-Y7'\n",
      " 'NC-17']\n",
      "Unique values in runtime: [113  91  94 133  30 102 170 104 110 117 158 100  78  99 115  77  68 150\n",
      "  97 186 120 105 235 161  43 124 152 162  74  93 153 142 138 163 135 141\n",
      " 131  24  89 229  96 116  90  51  10 127 103  23  84  26  15  50  87 144\n",
      " 174  72 134 172 148 160 108 159 129 151 107  48  44  22  92 169  25  47\n",
      "  40 106  46 119 126 130 136 123 165 112 128 118 101  88  28  95 114  21\n",
      "  19  75  63 185   9 171 156 177 175 155 206 145 180  55 146  58  59  56\n",
      " 149 147  49  57  45 111  98 139  42 121 125 143 140 122 154 109  81  82\n",
      "  52  83  29  27  64 132   7 224  11  86   6  35  18  61  14  17 210  76\n",
      " 213  71  20  85  12   0 137 183 178  60 157 189   3 225 193 166 179  67\n",
      " 173 167  80  73  37 192  69  13 182  53  54  79  41   4  16  65   2  62\n",
      "   5  66  70 188  32  31   8  36 181 164  39  34  33 168  38 209 176]\n",
      "Unique values in imdb_id: ['tt0075314' 'tt0071853' 'tt0079470' ... 'tt14620732' 'tt10168094'\n",
      " 'tt13711094']\n",
      "Unique values in imdb_score: [8.3 8.2 8.  8.1 8.8 7.7 7.8 5.8 7.3 7.5 7.6 6.9 7.2 6.2 6.4 6.7 6.8 9.\n",
      " 2.1 7.4 6.5 4.6 4.2 5.1 8.9 6.6 7.1 4.9 6.1 6.  7.9 7.  5.6 8.7 6.3 4.8\n",
      " 3.8 5.2 5.4 8.4 8.6 8.5 4.5 5.7 5.9 4.7 4.  5.5 3.6 5.  9.5 9.3 3.9 5.3\n",
      " 4.1 4.4 2.9 4.3 3.5 9.6 3.4 3.3 2.  3.2 1.7 2.6 9.2 3.1 3.7 1.9 2.8 2.7\n",
      " 1.5 2.3 3.  2.2 9.1 2.5 2.4 1.6 1.8]\n",
      "Unique values in imdb_votes: [7.95222e+05 5.30877e+05 3.92419e+05 ... 7.02000e+02 8.53000e+02\n",
      " 1.04180e+04]\n"
     ]
    }
   ],
   "source": [
    "# Check for data consistency and format\n",
    "\n",
    "for column in Movies_rating.columns:\n",
    "    unique_values = Movies_rating[column].unique()\n",
    "    print(f\"Unique values in {column}: {unique_values}\")"
   ]
  },
  {
   "cell_type": "code",
   "execution_count": 7,
   "id": "dc9b130c",
   "metadata": {},
   "outputs": [
    {
     "data": {
      "text/html": [
       "<div>\n",
       "<style scoped>\n",
       "    .dataframe tbody tr th:only-of-type {\n",
       "        vertical-align: middle;\n",
       "    }\n",
       "\n",
       "    .dataframe tbody tr th {\n",
       "        vertical-align: top;\n",
       "    }\n",
       "\n",
       "    .dataframe thead th {\n",
       "        text-align: right;\n",
       "    }\n",
       "</style>\n",
       "<table border=\"1\" class=\"dataframe\">\n",
       "  <thead>\n",
       "    <tr style=\"text-align: right;\">\n",
       "      <th></th>\n",
       "      <th>title</th>\n",
       "      <th>type</th>\n",
       "      <th>description</th>\n",
       "      <th>release_year</th>\n",
       "      <th>age_certification</th>\n",
       "      <th>runtime</th>\n",
       "      <th>imdb_score</th>\n",
       "      <th>imdb_votes</th>\n",
       "    </tr>\n",
       "  </thead>\n",
       "  <tbody>\n",
       "    <tr>\n",
       "      <th>0</th>\n",
       "      <td>Taxi Driver</td>\n",
       "      <td>MOVIE</td>\n",
       "      <td>A mentally unstable Vietnam War veteran works ...</td>\n",
       "      <td>1976</td>\n",
       "      <td>R</td>\n",
       "      <td>113</td>\n",
       "      <td>8.3</td>\n",
       "      <td>795222.0</td>\n",
       "    </tr>\n",
       "    <tr>\n",
       "      <th>1</th>\n",
       "      <td>Monty Python and the Holy Grail</td>\n",
       "      <td>MOVIE</td>\n",
       "      <td>King Arthur, accompanied by his squire, recrui...</td>\n",
       "      <td>1975</td>\n",
       "      <td>PG</td>\n",
       "      <td>91</td>\n",
       "      <td>8.2</td>\n",
       "      <td>530877.0</td>\n",
       "    </tr>\n",
       "    <tr>\n",
       "      <th>2</th>\n",
       "      <td>Life of Brian</td>\n",
       "      <td>MOVIE</td>\n",
       "      <td>Brian Cohen is an average young Jewish man, bu...</td>\n",
       "      <td>1979</td>\n",
       "      <td>R</td>\n",
       "      <td>94</td>\n",
       "      <td>8.0</td>\n",
       "      <td>392419.0</td>\n",
       "    </tr>\n",
       "    <tr>\n",
       "      <th>3</th>\n",
       "      <td>The Exorcist</td>\n",
       "      <td>MOVIE</td>\n",
       "      <td>12-year-old Regan MacNeil begins to adapt an e...</td>\n",
       "      <td>1973</td>\n",
       "      <td>R</td>\n",
       "      <td>133</td>\n",
       "      <td>8.1</td>\n",
       "      <td>391942.0</td>\n",
       "    </tr>\n",
       "    <tr>\n",
       "      <th>4</th>\n",
       "      <td>Monty Python's Flying Circus</td>\n",
       "      <td>SHOW</td>\n",
       "      <td>A British sketch comedy series with the shows ...</td>\n",
       "      <td>1969</td>\n",
       "      <td>TV-14</td>\n",
       "      <td>30</td>\n",
       "      <td>8.8</td>\n",
       "      <td>72895.0</td>\n",
       "    </tr>\n",
       "  </tbody>\n",
       "</table>\n",
       "</div>"
      ],
      "text/plain": [
       "                             title   type  \\\n",
       "0                      Taxi Driver  MOVIE   \n",
       "1  Monty Python and the Holy Grail  MOVIE   \n",
       "2                    Life of Brian  MOVIE   \n",
       "3                     The Exorcist  MOVIE   \n",
       "4     Monty Python's Flying Circus   SHOW   \n",
       "\n",
       "                                         description  release_year  \\\n",
       "0  A mentally unstable Vietnam War veteran works ...          1976   \n",
       "1  King Arthur, accompanied by his squire, recrui...          1975   \n",
       "2  Brian Cohen is an average young Jewish man, bu...          1979   \n",
       "3  12-year-old Regan MacNeil begins to adapt an e...          1973   \n",
       "4  A British sketch comedy series with the shows ...          1969   \n",
       "\n",
       "  age_certification  runtime  imdb_score  imdb_votes  \n",
       "0                 R      113         8.3    795222.0  \n",
       "1                PG       91         8.2    530877.0  \n",
       "2                 R       94         8.0    392419.0  \n",
       "3                 R      133         8.1    391942.0  \n",
       "4             TV-14       30         8.8     72895.0  "
      ]
     },
     "execution_count": 7,
     "metadata": {},
     "output_type": "execute_result"
    }
   ],
   "source": [
    "# Drop unusable columns\n",
    "Movies_rating = Movies_rating.drop(columns=['index', 'id', 'imdb_id'])\n",
    "\n",
    "Movies_rating.head()"
   ]
  },
  {
   "cell_type": "code",
   "execution_count": 8,
   "id": "b4a58bde",
   "metadata": {},
   "outputs": [
    {
     "name": "stdout",
     "output_type": "stream",
     "text": [
      "type\n",
      "MOVIE    3407\n",
      "SHOW     1876\n",
      "dtype: int64\n"
     ]
    }
   ],
   "source": [
    "# group title by movie or show \n",
    "\n",
    "grouped = Movies_rating.groupby('type').size()\n",
    "\n",
    "print(grouped)"
   ]
  },
  {
   "cell_type": "code",
   "execution_count": 9,
   "id": "3ef9d88e",
   "metadata": {},
   "outputs": [
    {
     "name": "stdout",
     "output_type": "stream",
     "text": [
      "age_certification\n",
      "G        105\n",
      "NC-17     13\n",
      "PG       238\n",
      "PG-13    424\n",
      "R        548\n",
      "TV-14    436\n",
      "TV-G      72\n",
      "TV-MA    792\n",
      "TV-PG    172\n",
      "TV-Y      94\n",
      "TV-Y7    104\n",
      "dtype: int64\n"
     ]
    }
   ],
   "source": [
    "# group title by age_certification\n",
    "\n",
    "grouped = Movies_rating.groupby('age_certification').size()\n",
    "\n",
    "print(grouped)"
   ]
  },
  {
   "cell_type": "markdown",
   "id": "5b816e20",
   "metadata": {},
   "source": [
    "There are 3407 movies and 1876 tv shows with age rating ranging from General (G), Restricted (R), Parental Guidance (PG), to all children (TV-Y). Before we proceed with the analysis, we need to determine the age certification of 2285 movie or tv show for data accuracy using the fill forward method:"
   ]
  },
  {
   "cell_type": "code",
   "execution_count": 10,
   "id": "8718eac0",
   "metadata": {},
   "outputs": [],
   "source": [
    "Movies_rating['age_certification'].fillna(method='ffill', inplace=True)"
   ]
  },
  {
   "cell_type": "code",
   "execution_count": 11,
   "id": "b5f042cb",
   "metadata": {},
   "outputs": [],
   "source": [
    "# Fill missing values of the IMDb votes using the mean value\n",
    "\n",
    "average_votes = Movies_rating['imdb_votes'].mean()\n",
    "\n",
    "Movies_rating['imdb_votes'].fillna(average_votes, inplace=True)"
   ]
  },
  {
   "cell_type": "code",
   "execution_count": 12,
   "id": "d6217867",
   "metadata": {},
   "outputs": [],
   "source": [
    "Movies_rating['description'].replace('NA', np.nan, inplace=True)\n",
    "\n",
    "# fill missing values in the 'description' column\n",
    "Movies_rating['description'].fillna(value='Not provided', inplace=True)"
   ]
  },
  {
   "cell_type": "code",
   "execution_count": 13,
   "id": "1967b7bb",
   "metadata": {},
   "outputs": [
    {
     "data": {
      "text/plain": [
       "title                0\n",
       "type                 0\n",
       "description          0\n",
       "release_year         0\n",
       "age_certification    0\n",
       "runtime              0\n",
       "imdb_score           0\n",
       "imdb_votes           0\n",
       "dtype: int64"
      ]
     },
     "execution_count": 13,
     "metadata": {},
     "output_type": "execute_result"
    }
   ],
   "source": [
    "# Check the columns with the null values \n",
    "Movies_rating.isna().sum()"
   ]
  },
  {
   "cell_type": "code",
   "execution_count": 14,
   "id": "27f98d72",
   "metadata": {},
   "outputs": [
    {
     "name": "stdout",
     "output_type": "stream",
     "text": [
      "age_certification\n",
      "G         303\n",
      "NC-17      22\n",
      "PG        458\n",
      "PG-13     748\n",
      "R         838\n",
      "TV-14     746\n",
      "TV-G      117\n",
      "TV-MA    1334\n",
      "TV-PG     314\n",
      "TV-Y      200\n",
      "TV-Y7     203\n",
      "dtype: int64\n"
     ]
    }
   ],
   "source": [
    "# group title by age_certification\n",
    "\n",
    "grouped = Movies_rating.groupby('age_certification').size()\n",
    "\n",
    "print(grouped)"
   ]
  },
  {
   "cell_type": "code",
   "execution_count": 15,
   "id": "5b6d2431",
   "metadata": {},
   "outputs": [
    {
     "data": {
      "text/html": [
       "<div>\n",
       "<style scoped>\n",
       "    .dataframe tbody tr th:only-of-type {\n",
       "        vertical-align: middle;\n",
       "    }\n",
       "\n",
       "    .dataframe tbody tr th {\n",
       "        vertical-align: top;\n",
       "    }\n",
       "\n",
       "    .dataframe thead th {\n",
       "        text-align: right;\n",
       "    }\n",
       "</style>\n",
       "<table border=\"1\" class=\"dataframe\">\n",
       "  <thead>\n",
       "    <tr style=\"text-align: right;\">\n",
       "      <th></th>\n",
       "      <th>release_year</th>\n",
       "      <th>runtime</th>\n",
       "      <th>imdb_score</th>\n",
       "      <th>imdb_votes</th>\n",
       "    </tr>\n",
       "  </thead>\n",
       "  <tbody>\n",
       "    <tr>\n",
       "      <th>count</th>\n",
       "      <td>5283.000000</td>\n",
       "      <td>5283.000000</td>\n",
       "      <td>5283.000000</td>\n",
       "      <td>5.283000e+03</td>\n",
       "    </tr>\n",
       "    <tr>\n",
       "      <th>mean</th>\n",
       "      <td>2015.879992</td>\n",
       "      <td>79.199886</td>\n",
       "      <td>6.533447</td>\n",
       "      <td>2.340719e+04</td>\n",
       "    </tr>\n",
       "    <tr>\n",
       "      <th>std</th>\n",
       "      <td>7.346098</td>\n",
       "      <td>38.915974</td>\n",
       "      <td>1.160932</td>\n",
       "      <td>8.700224e+04</td>\n",
       "    </tr>\n",
       "    <tr>\n",
       "      <th>min</th>\n",
       "      <td>1953.000000</td>\n",
       "      <td>0.000000</td>\n",
       "      <td>1.500000</td>\n",
       "      <td>5.000000e+00</td>\n",
       "    </tr>\n",
       "    <tr>\n",
       "      <th>25%</th>\n",
       "      <td>2015.000000</td>\n",
       "      <td>45.000000</td>\n",
       "      <td>5.800000</td>\n",
       "      <td>5.220000e+02</td>\n",
       "    </tr>\n",
       "    <tr>\n",
       "      <th>50%</th>\n",
       "      <td>2018.000000</td>\n",
       "      <td>87.000000</td>\n",
       "      <td>6.600000</td>\n",
       "      <td>2.285000e+03</td>\n",
       "    </tr>\n",
       "    <tr>\n",
       "      <th>75%</th>\n",
       "      <td>2020.000000</td>\n",
       "      <td>106.000000</td>\n",
       "      <td>7.400000</td>\n",
       "      <td>1.027600e+04</td>\n",
       "    </tr>\n",
       "    <tr>\n",
       "      <th>max</th>\n",
       "      <td>2022.000000</td>\n",
       "      <td>235.000000</td>\n",
       "      <td>9.600000</td>\n",
       "      <td>2.268288e+06</td>\n",
       "    </tr>\n",
       "  </tbody>\n",
       "</table>\n",
       "</div>"
      ],
      "text/plain": [
       "       release_year      runtime   imdb_score    imdb_votes\n",
       "count   5283.000000  5283.000000  5283.000000  5.283000e+03\n",
       "mean    2015.879992    79.199886     6.533447  2.340719e+04\n",
       "std        7.346098    38.915974     1.160932  8.700224e+04\n",
       "min     1953.000000     0.000000     1.500000  5.000000e+00\n",
       "25%     2015.000000    45.000000     5.800000  5.220000e+02\n",
       "50%     2018.000000    87.000000     6.600000  2.285000e+03\n",
       "75%     2020.000000   106.000000     7.400000  1.027600e+04\n",
       "max     2022.000000   235.000000     9.600000  2.268288e+06"
      ]
     },
     "execution_count": 15,
     "metadata": {},
     "output_type": "execute_result"
    }
   ],
   "source": [
    "# Display the statiscal description of the dataframe and check for outliers\n",
    "\n",
    "Movies_rating.describe()"
   ]
  },
  {
   "cell_type": "markdown",
   "id": "a5cab985",
   "metadata": {},
   "source": [
    "The median release year settling at 2018 suggests a sweet spot for content creation. The runtime sweet spot at 87 minutes signifies a balance between a quick watch and a more extended session. Viewer opinions, encapsulated by the median IMDb score of 6.6, reflect a discerning audience."
   ]
  },
  {
   "cell_type": "code",
   "execution_count": 16,
   "id": "81690ca0",
   "metadata": {},
   "outputs": [],
   "source": [
    "# save the dataframe as a csv file\n",
    "\n",
    "Movies_rating.to_csv('Movies_rating.csv', index=False)"
   ]
  },
  {
   "cell_type": "code",
   "execution_count": null,
   "id": "23f08176",
   "metadata": {},
   "outputs": [],
   "source": []
  }
 ],
 "metadata": {
  "kernelspec": {
   "display_name": "Python 3 (ipykernel)",
   "language": "python",
   "name": "python3"
  },
  "language_info": {
   "codemirror_mode": {
    "name": "ipython",
    "version": 3
   },
   "file_extension": ".py",
   "mimetype": "text/x-python",
   "name": "python",
   "nbconvert_exporter": "python",
   "pygments_lexer": "ipython3",
   "version": "3.9.12"
  }
 },
 "nbformat": 4,
 "nbformat_minor": 5
}
